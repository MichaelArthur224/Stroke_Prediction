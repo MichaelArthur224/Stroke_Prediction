{
  "nbformat": 4,
  "nbformat_minor": 0,
  "metadata": {
    "colab": {
      "provenance": [],
      "collapsed_sections": [
        "YLwI2kH9np_U",
        "m02b4mo3ww1b",
        "dktKFRNK1I24",
        "R_JJnB8w_Vmj"
      ]
    },
    "kernelspec": {
      "name": "python3",
      "display_name": "Python 3"
    },
    "language_info": {
      "name": "python"
    }
  },
  "cells": [
    {
      "cell_type": "markdown",
      "source": [
        "##Stroke Prediction Classification"
      ],
      "metadata": {
        "id": "lZyNrhR1GA5w"
      }
    },
    {
      "cell_type": "markdown",
      "source": [
        "![stroke.jpg](data:image/jpeg;base64,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)"
      ],
      "metadata": {
        "id": "oJaiGawbdyQB"
      }
    },
    {
      "cell_type": "markdown",
      "source": [
        "This dataset is used to predict whether a patient is likely to get stroke based on the input parameters like gender, age, various diseases, and smoking status. Each row in the data provides relavant information about the patient."
      ],
      "metadata": {
        "id": "XxpMmAzmGEf0"
      }
    },
    {
      "cell_type": "markdown",
      "source": [
        "1. id: unique identifier\n",
        "2. gender: \"Male\", \"Female\" or \"Other\"\n",
        "3. age: age of the patient\n",
        "4. hypertension: 0 if the patient doesn't have hypertension, 1 if the patient has hypertension\n",
        "5. heart_disease: 0 if the patient doesn't have any heart diseases, 1 if the patient has a heart disease\n",
        "6. ever_married: \"No\" or \"Yes\"\n",
        "7. work_type: \"children\", \"Govt_jov\", \"Never_worked\", \"Private\" or \"Self-employed\"\n",
        "8. Residence_type: \"Rural\" or \"Urban\"\n",
        "9. avg_glucose_level: average glucose level in blood\n",
        "10. bmi: body mass index\n",
        "11. smoking_status: \"formerly smoked\", \"never smoked\", \"smokes\" or \"Unknown\"*\n",
        "12. stroke: 1 if the patient had a stroke or 0 if not\n",
        "*Note: \"Unknown\" in smoking_status means that the information is unavailable for this patient"
      ],
      "metadata": {
        "id": "naDvBaWuGFbb"
      }
    },
    {
      "cell_type": "markdown",
      "source": [
        "##Imports"
      ],
      "metadata": {
        "id": "SR0DACnVGJhq"
      }
    },
    {
      "cell_type": "code",
      "source": [
        "#basic imports\n",
        "import pandas as pd\n",
        "import numpy as np\n",
        "import matplotlib.pyplot as plt\n",
        "import seaborn as sns"
      ],
      "metadata": {
        "id": "A8ZqcB8EGEQY"
      },
      "execution_count": 1,
      "outputs": []
    },
    {
      "cell_type": "code",
      "execution_count": 2,
      "metadata": {
        "colab": {
          "base_uri": "https://localhost:8080/",
          "height": 206
        },
        "id": "H68QHuN9F4Zg",
        "outputId": "8b5f4ef0-d06b-41d1-995e-b03e71fbf2dc"
      },
      "outputs": [
        {
          "output_type": "execute_result",
          "data": {
            "text/plain": [
              "      id  gender   age  hypertension  heart_disease ever_married  \\\n",
              "0   9046    Male  67.0             0              1          Yes   \n",
              "1  51676  Female  61.0             0              0          Yes   \n",
              "2  31112    Male  80.0             0              1          Yes   \n",
              "3  60182  Female  49.0             0              0          Yes   \n",
              "4   1665  Female  79.0             1              0          Yes   \n",
              "\n",
              "       work_type Residence_type  avg_glucose_level   bmi   smoking_status  \\\n",
              "0        Private          Urban             228.69  36.6  formerly smoked   \n",
              "1  Self-employed          Rural             202.21   NaN     never smoked   \n",
              "2        Private          Rural             105.92  32.5     never smoked   \n",
              "3        Private          Urban             171.23  34.4           smokes   \n",
              "4  Self-employed          Rural             174.12  24.0     never smoked   \n",
              "\n",
              "   stroke  \n",
              "0       1  \n",
              "1       1  \n",
              "2       1  \n",
              "3       1  \n",
              "4       1  "
            ],
            "text/html": [
              "\n",
              "  <div id=\"df-2c9a374a-3702-4390-a4e5-8d8d854d2a7e\" class=\"colab-df-container\">\n",
              "    <div>\n",
              "<style scoped>\n",
              "    .dataframe tbody tr th:only-of-type {\n",
              "        vertical-align: middle;\n",
              "    }\n",
              "\n",
              "    .dataframe tbody tr th {\n",
              "        vertical-align: top;\n",
              "    }\n",
              "\n",
              "    .dataframe thead th {\n",
              "        text-align: right;\n",
              "    }\n",
              "</style>\n",
              "<table border=\"1\" class=\"dataframe\">\n",
              "  <thead>\n",
              "    <tr style=\"text-align: right;\">\n",
              "      <th></th>\n",
              "      <th>id</th>\n",
              "      <th>gender</th>\n",
              "      <th>age</th>\n",
              "      <th>hypertension</th>\n",
              "      <th>heart_disease</th>\n",
              "      <th>ever_married</th>\n",
              "      <th>work_type</th>\n",
              "      <th>Residence_type</th>\n",
              "      <th>avg_glucose_level</th>\n",
              "      <th>bmi</th>\n",
              "      <th>smoking_status</th>\n",
              "      <th>stroke</th>\n",
              "    </tr>\n",
              "  </thead>\n",
              "  <tbody>\n",
              "    <tr>\n",
              "      <th>0</th>\n",
              "      <td>9046</td>\n",
              "      <td>Male</td>\n",
              "      <td>67.0</td>\n",
              "      <td>0</td>\n",
              "      <td>1</td>\n",
              "      <td>Yes</td>\n",
              "      <td>Private</td>\n",
              "      <td>Urban</td>\n",
              "      <td>228.69</td>\n",
              "      <td>36.6</td>\n",
              "      <td>formerly smoked</td>\n",
              "      <td>1</td>\n",
              "    </tr>\n",
              "    <tr>\n",
              "      <th>1</th>\n",
              "      <td>51676</td>\n",
              "      <td>Female</td>\n",
              "      <td>61.0</td>\n",
              "      <td>0</td>\n",
              "      <td>0</td>\n",
              "      <td>Yes</td>\n",
              "      <td>Self-employed</td>\n",
              "      <td>Rural</td>\n",
              "      <td>202.21</td>\n",
              "      <td>NaN</td>\n",
              "      <td>never smoked</td>\n",
              "      <td>1</td>\n",
              "    </tr>\n",
              "    <tr>\n",
              "      <th>2</th>\n",
              "      <td>31112</td>\n",
              "      <td>Male</td>\n",
              "      <td>80.0</td>\n",
              "      <td>0</td>\n",
              "      <td>1</td>\n",
              "      <td>Yes</td>\n",
              "      <td>Private</td>\n",
              "      <td>Rural</td>\n",
              "      <td>105.92</td>\n",
              "      <td>32.5</td>\n",
              "      <td>never smoked</td>\n",
              "      <td>1</td>\n",
              "    </tr>\n",
              "    <tr>\n",
              "      <th>3</th>\n",
              "      <td>60182</td>\n",
              "      <td>Female</td>\n",
              "      <td>49.0</td>\n",
              "      <td>0</td>\n",
              "      <td>0</td>\n",
              "      <td>Yes</td>\n",
              "      <td>Private</td>\n",
              "      <td>Urban</td>\n",
              "      <td>171.23</td>\n",
              "      <td>34.4</td>\n",
              "      <td>smokes</td>\n",
              "      <td>1</td>\n",
              "    </tr>\n",
              "    <tr>\n",
              "      <th>4</th>\n",
              "      <td>1665</td>\n",
              "      <td>Female</td>\n",
              "      <td>79.0</td>\n",
              "      <td>1</td>\n",
              "      <td>0</td>\n",
              "      <td>Yes</td>\n",
              "      <td>Self-employed</td>\n",
              "      <td>Rural</td>\n",
              "      <td>174.12</td>\n",
              "      <td>24.0</td>\n",
              "      <td>never smoked</td>\n",
              "      <td>1</td>\n",
              "    </tr>\n",
              "  </tbody>\n",
              "</table>\n",
              "</div>\n",
              "    <div class=\"colab-df-buttons\">\n",
              "\n",
              "  <div class=\"colab-df-container\">\n",
              "    <button class=\"colab-df-convert\" onclick=\"convertToInteractive('df-2c9a374a-3702-4390-a4e5-8d8d854d2a7e')\"\n",
              "            title=\"Convert this dataframe to an interactive table.\"\n",
              "            style=\"display:none;\">\n",
              "\n",
              "  <svg xmlns=\"http://www.w3.org/2000/svg\" height=\"24px\" viewBox=\"0 -960 960 960\">\n",
              "    <path d=\"M120-120v-720h720v720H120Zm60-500h600v-160H180v160Zm220 220h160v-160H400v160Zm0 220h160v-160H400v160ZM180-400h160v-160H180v160Zm440 0h160v-160H620v160ZM180-180h160v-160H180v160Zm440 0h160v-160H620v160Z\"/>\n",
              "  </svg>\n",
              "    </button>\n",
              "\n",
              "  <style>\n",
              "    .colab-df-container {\n",
              "      display:flex;\n",
              "      gap: 12px;\n",
              "    }\n",
              "\n",
              "    .colab-df-convert {\n",
              "      background-color: #E8F0FE;\n",
              "      border: none;\n",
              "      border-radius: 50%;\n",
              "      cursor: pointer;\n",
              "      display: none;\n",
              "      fill: #1967D2;\n",
              "      height: 32px;\n",
              "      padding: 0 0 0 0;\n",
              "      width: 32px;\n",
              "    }\n",
              "\n",
              "    .colab-df-convert:hover {\n",
              "      background-color: #E2EBFA;\n",
              "      box-shadow: 0px 1px 2px rgba(60, 64, 67, 0.3), 0px 1px 3px 1px rgba(60, 64, 67, 0.15);\n",
              "      fill: #174EA6;\n",
              "    }\n",
              "\n",
              "    .colab-df-buttons div {\n",
              "      margin-bottom: 4px;\n",
              "    }\n",
              "\n",
              "    [theme=dark] .colab-df-convert {\n",
              "      background-color: #3B4455;\n",
              "      fill: #D2E3FC;\n",
              "    }\n",
              "\n",
              "    [theme=dark] .colab-df-convert:hover {\n",
              "      background-color: #434B5C;\n",
              "      box-shadow: 0px 1px 3px 1px rgba(0, 0, 0, 0.15);\n",
              "      filter: drop-shadow(0px 1px 2px rgba(0, 0, 0, 0.3));\n",
              "      fill: #FFFFFF;\n",
              "    }\n",
              "  </style>\n",
              "\n",
              "    <script>\n",
              "      const buttonEl =\n",
              "        document.querySelector('#df-2c9a374a-3702-4390-a4e5-8d8d854d2a7e button.colab-df-convert');\n",
              "      buttonEl.style.display =\n",
              "        google.colab.kernel.accessAllowed ? 'block' : 'none';\n",
              "\n",
              "      async function convertToInteractive(key) {\n",
              "        const element = document.querySelector('#df-2c9a374a-3702-4390-a4e5-8d8d854d2a7e');\n",
              "        const dataTable =\n",
              "          await google.colab.kernel.invokeFunction('convertToInteractive',\n",
              "                                                    [key], {});\n",
              "        if (!dataTable) return;\n",
              "\n",
              "        const docLinkHtml = 'Like what you see? Visit the ' +\n",
              "          '<a target=\"_blank\" href=https://colab.research.google.com/notebooks/data_table.ipynb>data table notebook</a>'\n",
              "          + ' to learn more about interactive tables.';\n",
              "        element.innerHTML = '';\n",
              "        dataTable['output_type'] = 'display_data';\n",
              "        await google.colab.output.renderOutput(dataTable, element);\n",
              "        const docLink = document.createElement('div');\n",
              "        docLink.innerHTML = docLinkHtml;\n",
              "        element.appendChild(docLink);\n",
              "      }\n",
              "    </script>\n",
              "  </div>\n",
              "\n",
              "\n",
              "<div id=\"df-3bcdeb58-eb8f-4f68-9b0a-fe3c8156a96d\">\n",
              "  <button class=\"colab-df-quickchart\" onclick=\"quickchart('df-3bcdeb58-eb8f-4f68-9b0a-fe3c8156a96d')\"\n",
              "            title=\"Suggest charts\"\n",
              "            style=\"display:none;\">\n",
              "\n",
              "<svg xmlns=\"http://www.w3.org/2000/svg\" height=\"24px\"viewBox=\"0 0 24 24\"\n",
              "     width=\"24px\">\n",
              "    <g>\n",
              "        <path d=\"M19 3H5c-1.1 0-2 .9-2 2v14c0 1.1.9 2 2 2h14c1.1 0 2-.9 2-2V5c0-1.1-.9-2-2-2zM9 17H7v-7h2v7zm4 0h-2V7h2v10zm4 0h-2v-4h2v4z\"/>\n",
              "    </g>\n",
              "</svg>\n",
              "  </button>\n",
              "\n",
              "<style>\n",
              "  .colab-df-quickchart {\n",
              "      --bg-color: #E8F0FE;\n",
              "      --fill-color: #1967D2;\n",
              "      --hover-bg-color: #E2EBFA;\n",
              "      --hover-fill-color: #174EA6;\n",
              "      --disabled-fill-color: #AAA;\n",
              "      --disabled-bg-color: #DDD;\n",
              "  }\n",
              "\n",
              "  [theme=dark] .colab-df-quickchart {\n",
              "      --bg-color: #3B4455;\n",
              "      --fill-color: #D2E3FC;\n",
              "      --hover-bg-color: #434B5C;\n",
              "      --hover-fill-color: #FFFFFF;\n",
              "      --disabled-bg-color: #3B4455;\n",
              "      --disabled-fill-color: #666;\n",
              "  }\n",
              "\n",
              "  .colab-df-quickchart {\n",
              "    background-color: var(--bg-color);\n",
              "    border: none;\n",
              "    border-radius: 50%;\n",
              "    cursor: pointer;\n",
              "    display: none;\n",
              "    fill: var(--fill-color);\n",
              "    height: 32px;\n",
              "    padding: 0;\n",
              "    width: 32px;\n",
              "  }\n",
              "\n",
              "  .colab-df-quickchart:hover {\n",
              "    background-color: var(--hover-bg-color);\n",
              "    box-shadow: 0 1px 2px rgba(60, 64, 67, 0.3), 0 1px 3px 1px rgba(60, 64, 67, 0.15);\n",
              "    fill: var(--button-hover-fill-color);\n",
              "  }\n",
              "\n",
              "  .colab-df-quickchart-complete:disabled,\n",
              "  .colab-df-quickchart-complete:disabled:hover {\n",
              "    background-color: var(--disabled-bg-color);\n",
              "    fill: var(--disabled-fill-color);\n",
              "    box-shadow: none;\n",
              "  }\n",
              "\n",
              "  .colab-df-spinner {\n",
              "    border: 2px solid var(--fill-color);\n",
              "    border-color: transparent;\n",
              "    border-bottom-color: var(--fill-color);\n",
              "    animation:\n",
              "      spin 1s steps(1) infinite;\n",
              "  }\n",
              "\n",
              "  @keyframes spin {\n",
              "    0% {\n",
              "      border-color: transparent;\n",
              "      border-bottom-color: var(--fill-color);\n",
              "      border-left-color: var(--fill-color);\n",
              "    }\n",
              "    20% {\n",
              "      border-color: transparent;\n",
              "      border-left-color: var(--fill-color);\n",
              "      border-top-color: var(--fill-color);\n",
              "    }\n",
              "    30% {\n",
              "      border-color: transparent;\n",
              "      border-left-color: var(--fill-color);\n",
              "      border-top-color: var(--fill-color);\n",
              "      border-right-color: var(--fill-color);\n",
              "    }\n",
              "    40% {\n",
              "      border-color: transparent;\n",
              "      border-right-color: var(--fill-color);\n",
              "      border-top-color: var(--fill-color);\n",
              "    }\n",
              "    60% {\n",
              "      border-color: transparent;\n",
              "      border-right-color: var(--fill-color);\n",
              "    }\n",
              "    80% {\n",
              "      border-color: transparent;\n",
              "      border-right-color: var(--fill-color);\n",
              "      border-bottom-color: var(--fill-color);\n",
              "    }\n",
              "    90% {\n",
              "      border-color: transparent;\n",
              "      border-bottom-color: var(--fill-color);\n",
              "    }\n",
              "  }\n",
              "</style>\n",
              "\n",
              "  <script>\n",
              "    async function quickchart(key) {\n",
              "      const quickchartButtonEl =\n",
              "        document.querySelector('#' + key + ' button');\n",
              "      quickchartButtonEl.disabled = true;  // To prevent multiple clicks.\n",
              "      quickchartButtonEl.classList.add('colab-df-spinner');\n",
              "      try {\n",
              "        const charts = await google.colab.kernel.invokeFunction(\n",
              "            'suggestCharts', [key], {});\n",
              "      } catch (error) {\n",
              "        console.error('Error during call to suggestCharts:', error);\n",
              "      }\n",
              "      quickchartButtonEl.classList.remove('colab-df-spinner');\n",
              "      quickchartButtonEl.classList.add('colab-df-quickchart-complete');\n",
              "    }\n",
              "    (() => {\n",
              "      let quickchartButtonEl =\n",
              "        document.querySelector('#df-3bcdeb58-eb8f-4f68-9b0a-fe3c8156a96d button');\n",
              "      quickchartButtonEl.style.display =\n",
              "        google.colab.kernel.accessAllowed ? 'block' : 'none';\n",
              "    })();\n",
              "  </script>\n",
              "</div>\n",
              "\n",
              "    </div>\n",
              "  </div>\n"
            ]
          },
          "metadata": {},
          "execution_count": 2
        }
      ],
      "source": [
        "df = pd.read_csv('/content/drive/MyDrive/Colab Notebooks/Projects/Stroke/healthcare-dataset-stroke-data.csv')\n",
        "df1 = df.copy()\n",
        "df.head()"
      ]
    },
    {
      "cell_type": "markdown",
      "source": [
        "##Clean data"
      ],
      "metadata": {
        "id": "1bcqdRCoG0b-"
      }
    },
    {
      "cell_type": "code",
      "source": [
        "df.shape"
      ],
      "metadata": {
        "colab": {
          "base_uri": "https://localhost:8080/"
        },
        "id": "WWWRLN91JtrF",
        "outputId": "d95ef07f-3dfa-4568-e59d-ec1e52d5c21f"
      },
      "execution_count": 3,
      "outputs": [
        {
          "output_type": "execute_result",
          "data": {
            "text/plain": [
              "(5110, 12)"
            ]
          },
          "metadata": {},
          "execution_count": 3
        }
      ]
    },
    {
      "cell_type": "code",
      "source": [
        "df.dtypes"
      ],
      "metadata": {
        "colab": {
          "base_uri": "https://localhost:8080/"
        },
        "id": "ZQTXhgQvJuqS",
        "outputId": "641c3923-72b4-4793-e9b3-f2d5c7e102f1"
      },
      "execution_count": 4,
      "outputs": [
        {
          "output_type": "execute_result",
          "data": {
            "text/plain": [
              "id                     int64\n",
              "gender                object\n",
              "age                  float64\n",
              "hypertension           int64\n",
              "heart_disease          int64\n",
              "ever_married          object\n",
              "work_type             object\n",
              "Residence_type        object\n",
              "avg_glucose_level    float64\n",
              "bmi                  float64\n",
              "smoking_status        object\n",
              "stroke                 int64\n",
              "dtype: object"
            ]
          },
          "metadata": {},
          "execution_count": 4
        }
      ]
    },
    {
      "cell_type": "code",
      "source": [
        "df.nunique()"
      ],
      "metadata": {
        "colab": {
          "base_uri": "https://localhost:8080/"
        },
        "id": "RWZ8aVZ-Jwnk",
        "outputId": "f30ef5a9-36e4-4656-d1f1-42beb206f0db"
      },
      "execution_count": 5,
      "outputs": [
        {
          "output_type": "execute_result",
          "data": {
            "text/plain": [
              "id                   5110\n",
              "gender                  3\n",
              "age                   104\n",
              "hypertension            2\n",
              "heart_disease           2\n",
              "ever_married            2\n",
              "work_type               5\n",
              "Residence_type          2\n",
              "avg_glucose_level    3979\n",
              "bmi                   418\n",
              "smoking_status          4\n",
              "stroke                  2\n",
              "dtype: int64"
            ]
          },
          "metadata": {},
          "execution_count": 5
        }
      ]
    },
    {
      "cell_type": "code",
      "source": [
        "df.duplicated().sum()"
      ],
      "metadata": {
        "colab": {
          "base_uri": "https://localhost:8080/"
        },
        "id": "2WoUvEJuJzop",
        "outputId": "a47dbe0b-df9b-416a-8496-a175a2c5989a"
      },
      "execution_count": 6,
      "outputs": [
        {
          "output_type": "execute_result",
          "data": {
            "text/plain": [
              "0"
            ]
          },
          "metadata": {},
          "execution_count": 6
        }
      ]
    },
    {
      "cell_type": "code",
      "source": [
        "df.isna().sum()"
      ],
      "metadata": {
        "colab": {
          "base_uri": "https://localhost:8080/"
        },
        "id": "4DP0EigbJ2R7",
        "outputId": "4255d89b-ac9e-46fe-fbb7-b7760adb9370"
      },
      "execution_count": 7,
      "outputs": [
        {
          "output_type": "execute_result",
          "data": {
            "text/plain": [
              "id                     0\n",
              "gender                 0\n",
              "age                    0\n",
              "hypertension           0\n",
              "heart_disease          0\n",
              "ever_married           0\n",
              "work_type              0\n",
              "Residence_type         0\n",
              "avg_glucose_level      0\n",
              "bmi                  201\n",
              "smoking_status         0\n",
              "stroke                 0\n",
              "dtype: int64"
            ]
          },
          "metadata": {},
          "execution_count": 7
        }
      ]
    },
    {
      "cell_type": "code",
      "source": [
        "# filled missing bmi with average\n",
        "df.fillna({\"bmi\":df['bmi'].mean().round(1)}, inplace=True)\n",
        "df['bmi'].head()"
      ],
      "metadata": {
        "colab": {
          "base_uri": "https://localhost:8080/"
        },
        "id": "UA7maZ_OJ5Bv",
        "outputId": "10453d8d-dd2d-4cf0-9359-ab4416008f43"
      },
      "execution_count": 8,
      "outputs": [
        {
          "output_type": "execute_result",
          "data": {
            "text/plain": [
              "0    36.6\n",
              "1    28.9\n",
              "2    32.5\n",
              "3    34.4\n",
              "4    24.0\n",
              "Name: bmi, dtype: float64"
            ]
          },
          "metadata": {},
          "execution_count": 8
        }
      ]
    },
    {
      "cell_type": "code",
      "source": [
        "# drop 1 patient with \"other\" *for data purposes*\n",
        "df['gender'].value_counts()"
      ],
      "metadata": {
        "colab": {
          "base_uri": "https://localhost:8080/"
        },
        "id": "9lg8BT76J70c",
        "outputId": "ae650d6a-6235-400b-adac-13490f1acf6e"
      },
      "execution_count": 9,
      "outputs": [
        {
          "output_type": "execute_result",
          "data": {
            "text/plain": [
              "Female    2994\n",
              "Male      2115\n",
              "Other        1\n",
              "Name: gender, dtype: int64"
            ]
          },
          "metadata": {},
          "execution_count": 9
        }
      ]
    },
    {
      "cell_type": "code",
      "source": [
        "print(df[df['gender']=='Other'].index.values)"
      ],
      "metadata": {
        "colab": {
          "base_uri": "https://localhost:8080/"
        },
        "id": "7YkehNUVLwdR",
        "outputId": "0a4ed21d-bc15-459f-94ce-65d2f3727a12"
      },
      "execution_count": 10,
      "outputs": [
        {
          "output_type": "stream",
          "name": "stdout",
          "text": [
            "[3116]\n"
          ]
        }
      ]
    },
    {
      "cell_type": "code",
      "source": [
        "df = df.drop(3116)\n",
        "df['gender'].value_counts()"
      ],
      "metadata": {
        "colab": {
          "base_uri": "https://localhost:8080/"
        },
        "id": "Q1YJ4aIrLwy8",
        "outputId": "5a9ae281-323b-4893-9e75-e359261d910b"
      },
      "execution_count": 11,
      "outputs": [
        {
          "output_type": "execute_result",
          "data": {
            "text/plain": [
              "Female    2994\n",
              "Male      2115\n",
              "Name: gender, dtype: int64"
            ]
          },
          "metadata": {},
          "execution_count": 11
        }
      ]
    },
    {
      "cell_type": "code",
      "source": [
        "#save clean data\n",
        "#from google.colab import files\n",
        "#df.to_csv('stroke_clean.csv', encoding = 'utf-8-sig')\n",
        "#files.download('stroke_clean.csv')"
      ],
      "metadata": {
        "id": "Xd_5_hLxNsGA"
      },
      "execution_count": 12,
      "outputs": []
    },
    {
      "cell_type": "code",
      "source": [
        "print(df['stroke'].value_counts())"
      ],
      "metadata": {
        "colab": {
          "base_uri": "https://localhost:8080/"
        },
        "id": "-yFFSsFHGtgT",
        "outputId": "7420e922-38be-4acd-aaa1-73a87c50afda"
      },
      "execution_count": 13,
      "outputs": [
        {
          "output_type": "stream",
          "name": "stdout",
          "text": [
            "0    4860\n",
            "1     249\n",
            "Name: stroke, dtype: int64\n"
          ]
        }
      ]
    },
    {
      "cell_type": "markdown",
      "source": [
        "##EDA"
      ],
      "metadata": {
        "id": "WX3tLO9DcZiw"
      }
    },
    {
      "cell_type": "code",
      "source": [
        "sns.countplot(x='stroke', hue='gender', data=df)\n",
        "plt.show()"
      ],
      "metadata": {
        "colab": {
          "base_uri": "https://localhost:8080/",
          "height": 449
        },
        "id": "iDkbCAqsciRY",
        "outputId": "f242cad8-29ea-4598-cd47-2ae0e008f873"
      },
      "execution_count": 101,
      "outputs": [
        {
          "output_type": "display_data",
          "data": {
            "text/plain": [
              "<Figure size 640x480 with 1 Axes>"
            ],
            "image/png": "[encoded data removed]"
          },
          "metadata": {}
        }
      ]
    },
    {
      "cell_type": "code",
      "source": [
        "sns.countplot(x='stroke', hue='hypertension', data=df)\n",
        "plt.show()"
      ],
      "metadata": {
        "colab": {
          "base_uri": "https://localhost:8080/",
          "height": 449
        },
        "id": "H8TsEXYZcj9g",
        "outputId": "4857b8f0-4f85-4cf3-9112-6a2959bdb28c"
      },
      "execution_count": 102,
      "outputs": [
        {
          "output_type": "display_data",
          "data": {
            "text/plain": [
              "<Figure size 640x480 with 1 Axes>"
            ],
            "image/png": "[encoded data removed]"
          },
          "metadata": {}
        }
      ]
    },
    {
      "cell_type": "code",
      "source": [
        "sns.boxplot(x='gender', y='bmi', data=df)\n",
        "plt.show()"
      ],
      "metadata": {
        "colab": {
          "base_uri": "https://localhost:8080/",
          "height": 449
        },
        "id": "EALvxqefcwQL",
        "outputId": "0c38a866-b6a9-433a-bd7a-df9c23c313b5"
      },
      "execution_count": 103,
      "outputs": [
        {
          "output_type": "display_data",
          "data": {
            "text/plain": [
              "<Figure size 640x480 with 1 Axes>"
            ],
            "image/png": "[encoded data removed]"
          },
          "metadata": {}
        }
      ]
    },
    {
      "cell_type": "code",
      "source": [
        "sns.countplot(x='heart_disease', hue='smoking_status', data=df)\n",
        "plt.show()"
      ],
      "metadata": {
        "colab": {
          "base_uri": "https://localhost:8080/",
          "height": 450
        },
        "id": "uIapd8Oxc0wW",
        "outputId": "46a0fc42-770a-4d03-cdd0-de01fae46585"
      },
      "execution_count": 104,
      "outputs": [
        {
          "output_type": "display_data",
          "data": {
            "text/plain": [
              "<Figure size 640x480 with 1 Axes>"
            ],
            "image/png": "[encoded data removed]"
          },
          "metadata": {}
        }
      ]
    },
    {
      "cell_type": "code",
      "source": [
        "sns.scatterplot(x='age', y='bmi', hue='stroke', data=df, alpha=0.5)\n",
        "plt.show()"
      ],
      "metadata": {
        "colab": {
          "base_uri": "https://localhost:8080/",
          "height": 449
        },
        "id": "HVjoDzo_dAbz",
        "outputId": "b0717d11-7fb6-46a8-8365-d0e273696b8e"
      },
      "execution_count": 105,
      "outputs": [
        {
          "output_type": "display_data",
          "data": {
            "text/plain": [
              "<Figure size 640x480 with 1 Axes>"
            ],
            "image/png": "[encoded data removed]"
          },
          "metadata": {}
        }
      ]
    },
    {
      "cell_type": "markdown",
      "source": [
        "data is imbalanced and will need fixing using SMOTE"
      ],
      "metadata": {
        "id": "Eog2WPRfJUxz"
      }
    },
    {
      "cell_type": "markdown",
      "source": [
        "##Data Encoding"
      ],
      "metadata": {
        "id": "YLwI2kH9np_U"
      }
    },
    {
      "cell_type": "code",
      "source": [
        "df.head()"
      ],
      "metadata": {
        "colab": {
          "base_uri": "https://localhost:8080/",
          "height": 206
        },
        "id": "rJjLi244nye2",
        "outputId": "ba9ce638-d173-457d-c6c8-8c45ac4ce8f4"
      },
      "execution_count": 15,
      "outputs": [
        {
          "output_type": "execute_result",
          "data": {
            "text/plain": [
              "      id  gender   age  hypertension  heart_disease ever_married  \\\n",
              "0   9046    Male  67.0             0              1          Yes   \n",
              "1  51676  Female  61.0             0              0          Yes   \n",
              "2  31112    Male  80.0             0              1          Yes   \n",
              "3  60182  Female  49.0             0              0          Yes   \n",
              "4   1665  Female  79.0             1              0          Yes   \n",
              "\n",
              "       work_type Residence_type  avg_glucose_level   bmi   smoking_status  \\\n",
              "0        Private          Urban             228.69  36.6  formerly smoked   \n",
              "1  Self-employed          Rural             202.21  28.9     never smoked   \n",
              "2        Private          Rural             105.92  32.5     never smoked   \n",
              "3        Private          Urban             171.23  34.4           smokes   \n",
              "4  Self-employed          Rural             174.12  24.0     never smoked   \n",
              "\n",
              "   stroke  \n",
              "0       1  \n",
              "1       1  \n",
              "2       1  \n",
              "3       1  \n",
              "4       1  "
            ],
            "text/html": [
              "\n",
              "  <div id=\"df-2aac89b8-15b6-4def-bc3a-876d8c769c41\" class=\"colab-df-container\">\n",
              "    <div>\n",
              "<style scoped>\n",
              "    .dataframe tbody tr th:only-of-type {\n",
              "        vertical-align: middle;\n",
              "    }\n",
              "\n",
              "    .dataframe tbody tr th {\n",
              "        vertical-align: top;\n",
              "    }\n",
              "\n",
              "    .dataframe thead th {\n",
              "        text-align: right;\n",
              "    }\n",
              "</style>\n",
              "<table border=\"1\" class=\"dataframe\">\n",
              "  <thead>\n",
              "    <tr style=\"text-align: right;\">\n",
              "      <th></th>\n",
              "      <th>id</th>\n",
              "      <th>gender</th>\n",
              "      <th>age</th>\n",
              "      <th>hypertension</th>\n",
              "      <th>heart_disease</th>\n",
              "      <th>ever_married</th>\n",
              "      <th>work_type</th>\n",
              "      <th>Residence_type</th>\n",
              "      <th>avg_glucose_level</th>\n",
              "      <th>bmi</th>\n",
              "      <th>smoking_status</th>\n",
              "      <th>stroke</th>\n",
              "    </tr>\n",
              "  </thead>\n",
              "  <tbody>\n",
              "    <tr>\n",
              "      <th>0</th>\n",
              "      <td>9046</td>\n",
              "      <td>Male</td>\n",
              "      <td>67.0</td>\n",
              "      <td>0</td>\n",
              "      <td>1</td>\n",
              "      <td>Yes</td>\n",
              "      <td>Private</td>\n",
              "      <td>Urban</td>\n",
              "      <td>228.69</td>\n",
              "      <td>36.6</td>\n",
              "      <td>formerly smoked</td>\n",
              "      <td>1</td>\n",
              "    </tr>\n",
              "    <tr>\n",
              "      <th>1</th>\n",
              "      <td>51676</td>\n",
              "      <td>Female</td>\n",
              "      <td>61.0</td>\n",
              "      <td>0</td>\n",
              "      <td>0</td>\n",
              "      <td>Yes</td>\n",
              "      <td>Self-employed</td>\n",
              "      <td>Rural</td>\n",
              "      <td>202.21</td>\n",
              "      <td>28.9</td>\n",
              "      <td>never smoked</td>\n",
              "      <td>1</td>\n",
              "    </tr>\n",
              "    <tr>\n",
              "      <th>2</th>\n",
              "      <td>31112</td>\n",
              "      <td>Male</td>\n",
              "      <td>80.0</td>\n",
              "      <td>0</td>\n",
              "      <td>1</td>\n",
              "      <td>Yes</td>\n",
              "      <td>Private</td>\n",
              "      <td>Rural</td>\n",
              "      <td>105.92</td>\n",
              "      <td>32.5</td>\n",
              "      <td>never smoked</td>\n",
              "      <td>1</td>\n",
              "    </tr>\n",
              "    <tr>\n",
              "      <th>3</th>\n",
              "      <td>60182</td>\n",
              "      <td>Female</td>\n",
              "      <td>49.0</td>\n",
              "      <td>0</td>\n",
              "      <td>0</td>\n",
              "      <td>Yes</td>\n",
              "      <td>Private</td>\n",
              "      <td>Urban</td>\n",
              "      <td>171.23</td>\n",
              "      <td>34.4</td>\n",
              "      <td>smokes</td>\n",
              "      <td>1</td>\n",
              "    </tr>\n",
              "    <tr>\n",
              "      <th>4</th>\n",
              "      <td>1665</td>\n",
              "      <td>Female</td>\n",
              "      <td>79.0</td>\n",
              "      <td>1</td>\n",
              "      <td>0</td>\n",
              "      <td>Yes</td>\n",
              "      <td>Self-employed</td>\n",
              "      <td>Rural</td>\n",
              "      <td>174.12</td>\n",
              "      <td>24.0</td>\n",
              "      <td>never smoked</td>\n",
              "      <td>1</td>\n",
              "    </tr>\n",
              "  </tbody>\n",
              "</table>\n",
              "</div>\n",
              "    <div class=\"colab-df-buttons\">\n",
              "\n",
              "  <div class=\"colab-df-container\">\n",
              "    <button class=\"colab-df-convert\" onclick=\"convertToInteractive('df-2aac89b8-15b6-4def-bc3a-876d8c769c41')\"\n",
              "            title=\"Convert this dataframe to an interactive table.\"\n",
              "            style=\"display:none;\">\n",
              "\n",
              "  <svg xmlns=\"http://www.w3.org/2000/svg\" height=\"24px\" viewBox=\"0 -960 960 960\">\n",
              "    <path d=\"M120-120v-720h720v720H120Zm60-500h600v-160H180v160Zm220 220h160v-160H400v160Zm0 220h160v-160H400v160ZM180-400h160v-160H180v160Zm440 0h160v-160H620v160ZM180-180h160v-160H180v160Zm440 0h160v-160H620v160Z\"/>\n",
              "  </svg>\n",
              "    </button>\n",
              "\n",
              "  <style>\n",
              "    .colab-df-container {\n",
              "      display:flex;\n",
              "      gap: 12px;\n",
              "    }\n",
              "\n",
              "    .colab-df-convert {\n",
              "      background-color: #E8F0FE;\n",
              "      border: none;\n",
              "      border-radius: 50%;\n",
              "      cursor: pointer;\n",
              "      display: none;\n",
              "      fill: #1967D2;\n",
              "      height: 32px;\n",
              "      padding: 0 0 0 0;\n",
              "      width: 32px;\n",
              "    }\n",
              "\n",
              "    .colab-df-convert:hover {\n",
              "      background-color: #E2EBFA;\n",
              "      box-shadow: 0px 1px 2px rgba(60, 64, 67, 0.3), 0px 1px 3px 1px rgba(60, 64, 67, 0.15);\n",
              "      fill: #174EA6;\n",
              "    }\n",
              "\n",
              "    .colab-df-buttons div {\n",
              "      margin-bottom: 4px;\n",
              "    }\n",
              "\n",
              "    [theme=dark] .colab-df-convert {\n",
              "      background-color: #3B4455;\n",
              "      fill: #D2E3FC;\n",
              "    }\n",
              "\n",
              "    [theme=dark] .colab-df-convert:hover {\n",
              "      background-color: #434B5C;\n",
              "      box-shadow: 0px 1px 3px 1px rgba(0, 0, 0, 0.15);\n",
              "      filter: drop-shadow(0px 1px 2px rgba(0, 0, 0, 0.3));\n",
              "      fill: #FFFFFF;\n",
              "    }\n",
              "  </style>\n",
              "\n",
              "    <script>\n",
              "      const buttonEl =\n",
              "        document.querySelector('#df-2aac89b8-15b6-4def-bc3a-876d8c769c41 button.colab-df-convert');\n",
              "      buttonEl.style.display =\n",
              "        google.colab.kernel.accessAllowed ? 'block' : 'none';\n",
              "\n",
              "      async function convertToInteractive(key) {\n",
              "        const element = document.querySelector('#df-2aac89b8-15b6-4def-bc3a-876d8c769c41');\n",
              "        const dataTable =\n",
              "          await google.colab.kernel.invokeFunction('convertToInteractive',\n",
              "                                                    [key], {});\n",
              "        if (!dataTable) return;\n",
              "\n",
              "        const docLinkHtml = 'Like what you see? Visit the ' +\n",
              "          '<a target=\"_blank\" href=https://colab.research.google.com/notebooks/data_table.ipynb>data table notebook</a>'\n",
              "          + ' to learn more about interactive tables.';\n",
              "        element.innerHTML = '';\n",
              "        dataTable['output_type'] = 'display_data';\n",
              "        await google.colab.output.renderOutput(dataTable, element);\n",
              "        const docLink = document.createElement('div');\n",
              "        docLink.innerHTML = docLinkHtml;\n",
              "        element.appendChild(docLink);\n",
              "      }\n",
              "    </script>\n",
              "  </div>\n",
              "\n",
              "\n",
              "<div id=\"df-5330ebb0-efe0-4bbe-8364-09bac145b52d\">\n",
              "  <button class=\"colab-df-quickchart\" onclick=\"quickchart('df-5330ebb0-efe0-4bbe-8364-09bac145b52d')\"\n",
              "            title=\"Suggest charts\"\n",
              "            style=\"display:none;\">\n",
              "\n",
              "<svg xmlns=\"http://www.w3.org/2000/svg\" height=\"24px\"viewBox=\"0 0 24 24\"\n",
              "     width=\"24px\">\n",
              "    <g>\n",
              "        <path d=\"M19 3H5c-1.1 0-2 .9-2 2v14c0 1.1.9 2 2 2h14c1.1 0 2-.9 2-2V5c0-1.1-.9-2-2-2zM9 17H7v-7h2v7zm4 0h-2V7h2v10zm4 0h-2v-4h2v4z\"/>\n",
              "    </g>\n",
              "</svg>\n",
              "  </button>\n",
              "\n",
              "<style>\n",
              "  .colab-df-quickchart {\n",
              "      --bg-color: #E8F0FE;\n",
              "      --fill-color: #1967D2;\n",
              "      --hover-bg-color: #E2EBFA;\n",
              "      --hover-fill-color: #174EA6;\n",
              "      --disabled-fill-color: #AAA;\n",
              "      --disabled-bg-color: #DDD;\n",
              "  }\n",
              "\n",
              "  [theme=dark] .colab-df-quickchart {\n",
              "      --bg-color: #3B4455;\n",
              "      --fill-color: #D2E3FC;\n",
              "      --hover-bg-color: #434B5C;\n",
              "      --hover-fill-color: #FFFFFF;\n",
              "      --disabled-bg-color: #3B4455;\n",
              "      --disabled-fill-color: #666;\n",
              "  }\n",
              "\n",
              "  .colab-df-quickchart {\n",
              "    background-color: var(--bg-color);\n",
              "    border: none;\n",
              "    border-radius: 50%;\n",
              "    cursor: pointer;\n",
              "    display: none;\n",
              "    fill: var(--fill-color);\n",
              "    height: 32px;\n",
              "    padding: 0;\n",
              "    width: 32px;\n",
              "  }\n",
              "\n",
              "  .colab-df-quickchart:hover {\n",
              "    background-color: var(--hover-bg-color);\n",
              "    box-shadow: 0 1px 2px rgba(60, 64, 67, 0.3), 0 1px 3px 1px rgba(60, 64, 67, 0.15);\n",
              "    fill: var(--button-hover-fill-color);\n",
              "  }\n",
              "\n",
              "  .colab-df-quickchart-complete:disabled,\n",
              "  .colab-df-quickchart-complete:disabled:hover {\n",
              "    background-color: var(--disabled-bg-color);\n",
              "    fill: var(--disabled-fill-color);\n",
              "    box-shadow: none;\n",
              "  }\n",
              "\n",
              "  .colab-df-spinner {\n",
              "    border: 2px solid var(--fill-color);\n",
              "    border-color: transparent;\n",
              "    border-bottom-color: var(--fill-color);\n",
              "    animation:\n",
              "      spin 1s steps(1) infinite;\n",
              "  }\n",
              "\n",
              "  @keyframes spin {\n",
              "    0% {\n",
              "      border-color: transparent;\n",
              "      border-bottom-color: var(--fill-color);\n",
              "      border-left-color: var(--fill-color);\n",
              "    }\n",
              "    20% {\n",
              "      border-color: transparent;\n",
              "      border-left-color: var(--fill-color);\n",
              "      border-top-color: var(--fill-color);\n",
              "    }\n",
              "    30% {\n",
              "      border-color: transparent;\n",
              "      border-left-color: var(--fill-color);\n",
              "      border-top-color: var(--fill-color);\n",
              "      border-right-color: var(--fill-color);\n",
              "    }\n",
              "    40% {\n",
              "      border-color: transparent;\n",
              "      border-right-color: var(--fill-color);\n",
              "      border-top-color: var(--fill-color);\n",
              "    }\n",
              "    60% {\n",
              "      border-color: transparent;\n",
              "      border-right-color: var(--fill-color);\n",
              "    }\n",
              "    80% {\n",
              "      border-color: transparent;\n",
              "      border-right-color: var(--fill-color);\n",
              "      border-bottom-color: var(--fill-color);\n",
              "    }\n",
              "    90% {\n",
              "      border-color: transparent;\n",
              "      border-bottom-color: var(--fill-color);\n",
              "    }\n",
              "  }\n",
              "</style>\n",
              "\n",
              "  <script>\n",
              "    async function quickchart(key) {\n",
              "      const quickchartButtonEl =\n",
              "        document.querySelector('#' + key + ' button');\n",
              "      quickchartButtonEl.disabled = true;  // To prevent multiple clicks.\n",
              "      quickchartButtonEl.classList.add('colab-df-spinner');\n",
              "      try {\n",
              "        const charts = await google.colab.kernel.invokeFunction(\n",
              "            'suggestCharts', [key], {});\n",
              "      } catch (error) {\n",
              "        console.error('Error during call to suggestCharts:', error);\n",
              "      }\n",
              "      quickchartButtonEl.classList.remove('colab-df-spinner');\n",
              "      quickchartButtonEl.classList.add('colab-df-quickchart-complete');\n",
              "    }\n",
              "    (() => {\n",
              "      let quickchartButtonEl =\n",
              "        document.querySelector('#df-5330ebb0-efe0-4bbe-8364-09bac145b52d button');\n",
              "      quickchartButtonEl.style.display =\n",
              "        google.colab.kernel.accessAllowed ? 'block' : 'none';\n",
              "    })();\n",
              "  </script>\n",
              "</div>\n",
              "\n",
              "    </div>\n",
              "  </div>\n"
            ]
          },
          "metadata": {},
          "execution_count": 15
        }
      ]
    },
    {
      "cell_type": "code",
      "source": [
        "# imports for data encoding\n",
        "from sklearn.compose import ColumnTransformer\n",
        "from sklearn.preprocessing import OneHotEncoder"
      ],
      "metadata": {
        "id": "wDwdZrDxpRQl"
      },
      "execution_count": 16,
      "outputs": []
    },
    {
      "cell_type": "code",
      "source": [
        "X = df.iloc[:, 0:11].values\n",
        "y = df.iloc[:, -1].values"
      ],
      "metadata": {
        "id": "O0UTtgKvruxj"
      },
      "execution_count": 17,
      "outputs": []
    },
    {
      "cell_type": "code",
      "source": [
        "ct = ColumnTransformer(transformers=[('encoder', OneHotEncoder(), [1,5,6,7,10])], remainder='passthrough')\n",
        "X = ct.fit_transform(X)"
      ],
      "metadata": {
        "id": "M-4EmDmUpeLB"
      },
      "execution_count": 18,
      "outputs": []
    },
    {
      "cell_type": "markdown",
      "source": [
        "##Train Test Split"
      ],
      "metadata": {
        "id": "m02b4mo3ww1b"
      }
    },
    {
      "cell_type": "code",
      "source": [
        "from sklearn.model_selection import train_test_split\n",
        "from imblearn.over_sampling import SMOTE\n",
        "from sklearn.datasets import make_classification"
      ],
      "metadata": {
        "id": "xfL8LGJcRAd8"
      },
      "execution_count": 19,
      "outputs": []
    },
    {
      "cell_type": "code",
      "source": [
        "X_train, X_test, y_train, y_test = train_test_split(X, y, random_state = 42)"
      ],
      "metadata": {
        "id": "UFyft686xdmY"
      },
      "execution_count": 20,
      "outputs": []
    },
    {
      "cell_type": "markdown",
      "source": [
        "Solve Imbalance using SMOTE"
      ],
      "metadata": {
        "id": "UKEdCt0Az1o5"
      }
    },
    {
      "cell_type": "code",
      "source": [
        "print(\"Before SMOTE - Class 0:\", np.sum(y_train == 0), \"Class 1:\", np.sum(y_train == 1))"
      ],
      "metadata": {
        "colab": {
          "base_uri": "https://localhost:8080/"
        },
        "id": "rFzxRWjiywZc",
        "outputId": "27408efd-76ab-426b-86c2-becb078d9f81"
      },
      "execution_count": 21,
      "outputs": [
        {
          "output_type": "stream",
          "name": "stdout",
          "text": [
            "Before SMOTE - Class 0: 3662 Class 1: 169\n"
          ]
        }
      ]
    },
    {
      "cell_type": "code",
      "source": [
        "#fix imbalance\n",
        "smote = SMOTE(random_state=42)\n",
        "X_train_resampled, y_train_resampled = smote.fit_resample(X_train, y_train)\n"
      ],
      "metadata": {
        "id": "zKDgk7XqGXO3"
      },
      "execution_count": 22,
      "outputs": []
    },
    {
      "cell_type": "code",
      "source": [
        "print(\"After SMOTE - Class 0:\", np.sum(y_train_resampled == 0), \"Class 1:\", np.sum(y_train_resampled == 1))"
      ],
      "metadata": {
        "colab": {
          "base_uri": "https://localhost:8080/"
        },
        "id": "nKRcpZPMzPfO",
        "outputId": "eb4e0955-214c-48b7-9eb6-1926b16347d1"
      },
      "execution_count": 23,
      "outputs": [
        {
          "output_type": "stream",
          "name": "stdout",
          "text": [
            "After SMOTE - Class 0: 3662 Class 1: 3662\n"
          ]
        }
      ]
    },
    {
      "cell_type": "markdown",
      "source": [
        "## XGBoost Model"
      ],
      "metadata": {
        "id": "dktKFRNK1I24"
      }
    },
    {
      "cell_type": "code",
      "source": [
        "import xgboost as xgb\n",
        "from xgboost import XGBClassifier"
      ],
      "metadata": {
        "id": "s44C-hsB1LEk"
      },
      "execution_count": 24,
      "outputs": []
    },
    {
      "cell_type": "code",
      "source": [
        "classifier = XGBClassifier()\n",
        "classifier.fit(X_train_resampled, y_train_resampled)"
      ],
      "metadata": {
        "colab": {
          "base_uri": "https://localhost:8080/",
          "height": 248
        },
        "id": "8Frur8Te2A65",
        "outputId": "5282cbeb-d732-4436-e7aa-f705751ff3f4"
      },
      "execution_count": 25,
      "outputs": [
        {
          "output_type": "execute_result",
          "data": {
            "text/plain": [
              "XGBClassifier(base_score=None, booster=None, callbacks=None,\n",
              "              colsample_bylevel=None, colsample_bynode=None,\n",
              "              colsample_bytree=None, device=None, early_stopping_rounds=None,\n",
              "              enable_categorical=False, eval_metric=None, feature_types=None,\n",
              "              gamma=None, grow_policy=None, importance_type=None,\n",
              "              interaction_constraints=None, learning_rate=None, max_bin=None,\n",
              "              max_cat_threshold=None, max_cat_to_onehot=None,\n",
              "              max_delta_step=None, max_depth=None, max_leaves=None,\n",
              "              min_child_weight=None, missing=nan, monotone_constraints=None,\n",
              "              multi_strategy=None, n_estimators=None, n_jobs=None,\n",
              "              num_parallel_tree=None, random_state=None, ...)"
            ],
            "text/html": [
              "<style>#sk-container-id-1 {color: black;background-color: white;}#sk-container-id-1 pre{padding: 0;}#sk-container-id-1 div.sk-toggleable {background-color: white;}#sk-container-id-1 label.sk-toggleable__label {cursor: pointer;display: block;width: 100%;margin-bottom: 0;padding: 0.3em;box-sizing: border-box;text-align: center;}#sk-container-id-1 label.sk-toggleable__label-arrow:before {content: \"▸\";float: left;margin-right: 0.25em;color: #696969;}#sk-container-id-1 label.sk-toggleable__label-arrow:hover:before {color: black;}#sk-container-id-1 div.sk-estimator:hover label.sk-toggleable__label-arrow:before {color: black;}#sk-container-id-1 div.sk-toggleable__content {max-height: 0;max-width: 0;overflow: hidden;text-align: left;background-color: #f0f8ff;}#sk-container-id-1 div.sk-toggleable__content pre {margin: 0.2em;color: black;border-radius: 0.25em;background-color: #f0f8ff;}#sk-container-id-1 input.sk-toggleable__control:checked~div.sk-toggleable__content {max-height: 200px;max-width: 100%;overflow: auto;}#sk-container-id-1 input.sk-toggleable__control:checked~label.sk-toggleable__label-arrow:before {content: \"▾\";}#sk-container-id-1 div.sk-estimator input.sk-toggleable__control:checked~label.sk-toggleable__label {background-color: #d4ebff;}#sk-container-id-1 div.sk-label input.sk-toggleable__control:checked~label.sk-toggleable__label {background-color: #d4ebff;}#sk-container-id-1 input.sk-hidden--visually {border: 0;clip: rect(1px 1px 1px 1px);clip: rect(1px, 1px, 1px, 1px);height: 1px;margin: -1px;overflow: hidden;padding: 0;position: absolute;width: 1px;}#sk-container-id-1 div.sk-estimator {font-family: monospace;background-color: #f0f8ff;border: 1px dotted black;border-radius: 0.25em;box-sizing: border-box;margin-bottom: 0.5em;}#sk-container-id-1 div.sk-estimator:hover {background-color: #d4ebff;}#sk-container-id-1 div.sk-parallel-item::after {content: \"\";width: 100%;border-bottom: 1px solid gray;flex-grow: 1;}#sk-container-id-1 div.sk-label:hover label.sk-toggleable__label {background-color: #d4ebff;}#sk-container-id-1 div.sk-serial::before {content: \"\";position: absolute;border-left: 1px solid gray;box-sizing: border-box;top: 0;bottom: 0;left: 50%;z-index: 0;}#sk-container-id-1 div.sk-serial {display: flex;flex-direction: column;align-items: center;background-color: white;padding-right: 0.2em;padding-left: 0.2em;position: relative;}#sk-container-id-1 div.sk-item {position: relative;z-index: 1;}#sk-container-id-1 div.sk-parallel {display: flex;align-items: stretch;justify-content: center;background-color: white;position: relative;}#sk-container-id-1 div.sk-item::before, #sk-container-id-1 div.sk-parallel-item::before {content: \"\";position: absolute;border-left: 1px solid gray;box-sizing: border-box;top: 0;bottom: 0;left: 50%;z-index: -1;}#sk-container-id-1 div.sk-parallel-item {display: flex;flex-direction: column;z-index: 1;position: relative;background-color: white;}#sk-container-id-1 div.sk-parallel-item:first-child::after {align-self: flex-end;width: 50%;}#sk-container-id-1 div.sk-parallel-item:last-child::after {align-self: flex-start;width: 50%;}#sk-container-id-1 div.sk-parallel-item:only-child::after {width: 0;}#sk-container-id-1 div.sk-dashed-wrapped {border: 1px dashed gray;margin: 0 0.4em 0.5em 0.4em;box-sizing: border-box;padding-bottom: 0.4em;background-color: white;}#sk-container-id-1 div.sk-label label {font-family: monospace;font-weight: bold;display: inline-block;line-height: 1.2em;}#sk-container-id-1 div.sk-label-container {text-align: center;}#sk-container-id-1 div.sk-container {/* jupyter's `normalize.less` sets `[hidden] { display: none; }` but bootstrap.min.css set `[hidden] { display: none !important; }` so we also need the `!important` here to be able to override the default hidden behavior on the sphinx rendered scikit-learn.org. See: https://github.com/scikit-learn/scikit-learn/issues/21755 */display: inline-block !important;position: relative;}#sk-container-id-1 div.sk-text-repr-fallback {display: none;}</style><div id=\"sk-container-id-1\" class=\"sk-top-container\"><div class=\"sk-text-repr-fallback\"><pre>XGBClassifier(base_score=None, booster=None, callbacks=None,\n",
              "              colsample_bylevel=None, colsample_bynode=None,\n",
              "              colsample_bytree=None, device=None, early_stopping_rounds=None,\n",
              "              enable_categorical=False, eval_metric=None, feature_types=None,\n",
              "              gamma=None, grow_policy=None, importance_type=None,\n",
              "              interaction_constraints=None, learning_rate=None, max_bin=None,\n",
              "              max_cat_threshold=None, max_cat_to_onehot=None,\n",
              "              max_delta_step=None, max_depth=None, max_leaves=None,\n",
              "              min_child_weight=None, missing=nan, monotone_constraints=None,\n",
              "              multi_strategy=None, n_estimators=None, n_jobs=None,\n",
              "              num_parallel_tree=None, random_state=None, ...)</pre><b>In a Jupyter environment, please rerun this cell to show the HTML representation or trust the notebook. <br />On GitHub, the HTML representation is unable to render, please try loading this page with nbviewer.org.</b></div><div class=\"sk-container\" hidden><div class=\"sk-item\"><div class=\"sk-estimator sk-toggleable\"><input class=\"sk-toggleable__control sk-hidden--visually\" id=\"sk-estimator-id-1\" type=\"checkbox\" checked><label for=\"sk-estimator-id-1\" class=\"sk-toggleable__label sk-toggleable__label-arrow\">XGBClassifier</label><div class=\"sk-toggleable__content\"><pre>XGBClassifier(base_score=None, booster=None, callbacks=None,\n",
              "              colsample_bylevel=None, colsample_bynode=None,\n",
              "              colsample_bytree=None, device=None, early_stopping_rounds=None,\n",
              "              enable_categorical=False, eval_metric=None, feature_types=None,\n",
              "              gamma=None, grow_policy=None, importance_type=None,\n",
              "              interaction_constraints=None, learning_rate=None, max_bin=None,\n",
              "              max_cat_threshold=None, max_cat_to_onehot=None,\n",
              "              max_delta_step=None, max_depth=None, max_leaves=None,\n",
              "              min_child_weight=None, missing=nan, monotone_constraints=None,\n",
              "              multi_strategy=None, n_estimators=None, n_jobs=None,\n",
              "              num_parallel_tree=None, random_state=None, ...)</pre></div></div></div></div></div>"
            ]
          },
          "metadata": {},
          "execution_count": 25
        }
      ]
    },
    {
      "cell_type": "code",
      "source": [
        "from sklearn.metrics import confusion_matrix, accuracy_score"
      ],
      "metadata": {
        "id": "4T9CWzzU2YHT"
      },
      "execution_count": 26,
      "outputs": []
    },
    {
      "cell_type": "code",
      "source": [
        "y_pred = classifier.predict(X_test)\n",
        "cm = confusion_matrix(y_test, y_pred)\n",
        "print(cm)\n",
        "accuracy_score(y_test, y_pred)"
      ],
      "metadata": {
        "colab": {
          "base_uri": "https://localhost:8080/"
        },
        "id": "x0sftMLG2isY",
        "outputId": "9281acac-3b8b-41d3-eb4f-0d448a032add"
      },
      "execution_count": 27,
      "outputs": [
        {
          "output_type": "stream",
          "name": "stdout",
          "text": [
            "[[1182   16]\n",
            " [  78    2]]\n"
          ]
        },
        {
          "output_type": "execute_result",
          "data": {
            "text/plain": [
              "0.9264475743348983"
            ]
          },
          "metadata": {},
          "execution_count": 27
        }
      ]
    },
    {
      "cell_type": "markdown",
      "source": [
        "- True Positive (TP): 2\n",
        "- False Positive (FP): 16\n",
        "- True Negative (TN): 1182\n",
        "- False Negative (FN): 78"
      ],
      "metadata": {
        "id": "9L26OG_uDQhz"
      }
    },
    {
      "cell_type": "markdown",
      "source": [
        "- XGBClassifier correctly predicted the positive class (True Positives): 2 instances.\n",
        "- XGBClassifier incorrectly predicted the positive class when it was actually negative (False Positives): 16 instances.\n",
        "- XGBClassifier correctly predicted the negative class (True Negatives): 1182 instances.\n",
        "- XGBClassifier incorrectly predicted the negative class when it was actually positive (False Negatives): 78 instances."
      ],
      "metadata": {
        "id": "FIslx138DW_C"
      }
    },
    {
      "cell_type": "markdown",
      "source": [
        "##RandomForest"
      ],
      "metadata": {
        "id": "R_JJnB8w_Vmj"
      }
    },
    {
      "cell_type": "code",
      "source": [
        "from sklearn.ensemble import RandomForestClassifier"
      ],
      "metadata": {
        "id": "xfY4pUtQ27uT"
      },
      "execution_count": 28,
      "outputs": []
    },
    {
      "cell_type": "code",
      "source": [
        "rf = RandomForestClassifier(n_estimators=10, criterion= 'entropy', random_state=0)\n",
        "rf.fit(X_train_resampled, y_train_resampled)"
      ],
      "metadata": {
        "colab": {
          "base_uri": "https://localhost:8080/",
          "height": 75
        },
        "id": "AaiVFUAc_gXe",
        "outputId": "29374a69-89e9-48c7-9bb1-342aa0c06134"
      },
      "execution_count": 29,
      "outputs": [
        {
          "output_type": "execute_result",
          "data": {
            "text/plain": [
              "RandomForestClassifier(criterion='entropy', n_estimators=10, random_state=0)"
            ],
            "text/html": [
              "<style>#sk-container-id-2 {color: black;background-color: white;}#sk-container-id-2 pre{padding: 0;}#sk-container-id-2 div.sk-toggleable {background-color: white;}#sk-container-id-2 label.sk-toggleable__label {cursor: pointer;display: block;width: 100%;margin-bottom: 0;padding: 0.3em;box-sizing: border-box;text-align: center;}#sk-container-id-2 label.sk-toggleable__label-arrow:before {content: \"▸\";float: left;margin-right: 0.25em;color: #696969;}#sk-container-id-2 label.sk-toggleable__label-arrow:hover:before {color: black;}#sk-container-id-2 div.sk-estimator:hover label.sk-toggleable__label-arrow:before {color: black;}#sk-container-id-2 div.sk-toggleable__content {max-height: 0;max-width: 0;overflow: hidden;text-align: left;background-color: #f0f8ff;}#sk-container-id-2 div.sk-toggleable__content pre {margin: 0.2em;color: black;border-radius: 0.25em;background-color: #f0f8ff;}#sk-container-id-2 input.sk-toggleable__control:checked~div.sk-toggleable__content {max-height: 200px;max-width: 100%;overflow: auto;}#sk-container-id-2 input.sk-toggleable__control:checked~label.sk-toggleable__label-arrow:before {content: \"▾\";}#sk-container-id-2 div.sk-estimator input.sk-toggleable__control:checked~label.sk-toggleable__label {background-color: #d4ebff;}#sk-container-id-2 div.sk-label input.sk-toggleable__control:checked~label.sk-toggleable__label {background-color: #d4ebff;}#sk-container-id-2 input.sk-hidden--visually {border: 0;clip: rect(1px 1px 1px 1px);clip: rect(1px, 1px, 1px, 1px);height: 1px;margin: -1px;overflow: hidden;padding: 0;position: absolute;width: 1px;}#sk-container-id-2 div.sk-estimator {font-family: monospace;background-color: #f0f8ff;border: 1px dotted black;border-radius: 0.25em;box-sizing: border-box;margin-bottom: 0.5em;}#sk-container-id-2 div.sk-estimator:hover {background-color: #d4ebff;}#sk-container-id-2 div.sk-parallel-item::after {content: \"\";width: 100%;border-bottom: 1px solid gray;flex-grow: 1;}#sk-container-id-2 div.sk-label:hover label.sk-toggleable__label {background-color: #d4ebff;}#sk-container-id-2 div.sk-serial::before {content: \"\";position: absolute;border-left: 1px solid gray;box-sizing: border-box;top: 0;bottom: 0;left: 50%;z-index: 0;}#sk-container-id-2 div.sk-serial {display: flex;flex-direction: column;align-items: center;background-color: white;padding-right: 0.2em;padding-left: 0.2em;position: relative;}#sk-container-id-2 div.sk-item {position: relative;z-index: 1;}#sk-container-id-2 div.sk-parallel {display: flex;align-items: stretch;justify-content: center;background-color: white;position: relative;}#sk-container-id-2 div.sk-item::before, #sk-container-id-2 div.sk-parallel-item::before {content: \"\";position: absolute;border-left: 1px solid gray;box-sizing: border-box;top: 0;bottom: 0;left: 50%;z-index: -1;}#sk-container-id-2 div.sk-parallel-item {display: flex;flex-direction: column;z-index: 1;position: relative;background-color: white;}#sk-container-id-2 div.sk-parallel-item:first-child::after {align-self: flex-end;width: 50%;}#sk-container-id-2 div.sk-parallel-item:last-child::after {align-self: flex-start;width: 50%;}#sk-container-id-2 div.sk-parallel-item:only-child::after {width: 0;}#sk-container-id-2 div.sk-dashed-wrapped {border: 1px dashed gray;margin: 0 0.4em 0.5em 0.4em;box-sizing: border-box;padding-bottom: 0.4em;background-color: white;}#sk-container-id-2 div.sk-label label {font-family: monospace;font-weight: bold;display: inline-block;line-height: 1.2em;}#sk-container-id-2 div.sk-label-container {text-align: center;}#sk-container-id-2 div.sk-container {/* jupyter's `normalize.less` sets `[hidden] { display: none; }` but bootstrap.min.css set `[hidden] { display: none !important; }` so we also need the `!important` here to be able to override the default hidden behavior on the sphinx rendered scikit-learn.org. See: https://github.com/scikit-learn/scikit-learn/issues/21755 */display: inline-block !important;position: relative;}#sk-container-id-2 div.sk-text-repr-fallback {display: none;}</style><div id=\"sk-container-id-2\" class=\"sk-top-container\"><div class=\"sk-text-repr-fallback\"><pre>RandomForestClassifier(criterion=&#x27;entropy&#x27;, n_estimators=10, random_state=0)</pre><b>In a Jupyter environment, please rerun this cell to show the HTML representation or trust the notebook. <br />On GitHub, the HTML representation is unable to render, please try loading this page with nbviewer.org.</b></div><div class=\"sk-container\" hidden><div class=\"sk-item\"><div class=\"sk-estimator sk-toggleable\"><input class=\"sk-toggleable__control sk-hidden--visually\" id=\"sk-estimator-id-2\" type=\"checkbox\" checked><label for=\"sk-estimator-id-2\" class=\"sk-toggleable__label sk-toggleable__label-arrow\">RandomForestClassifier</label><div class=\"sk-toggleable__content\"><pre>RandomForestClassifier(criterion=&#x27;entropy&#x27;, n_estimators=10, random_state=0)</pre></div></div></div></div></div>"
            ]
          },
          "metadata": {},
          "execution_count": 29
        }
      ]
    },
    {
      "cell_type": "code",
      "source": [
        "y_pred_rf = rf.predict(X_test)\n",
        "cm_rf = confusion_matrix(y_test, y_pred_rf)\n",
        "print(cm_rf)\n",
        "accuracy_score(y_test, y_pred_rf)"
      ],
      "metadata": {
        "colab": {
          "base_uri": "https://localhost:8080/"
        },
        "id": "8jUVJhhMB8UU",
        "outputId": "3a2b5d82-0a3f-4b2b-cf76-243bd2a6f46e"
      },
      "execution_count": 30,
      "outputs": [
        {
          "output_type": "stream",
          "name": "stdout",
          "text": [
            "[[1188   10]\n",
            " [  76    4]]\n"
          ]
        },
        {
          "output_type": "execute_result",
          "data": {
            "text/plain": [
              "0.9327073552425665"
            ]
          },
          "metadata": {},
          "execution_count": 30
        }
      ]
    },
    {
      "cell_type": "markdown",
      "source": [
        "- True Positive (TP): 4\n",
        "- False Positive (FP): 10\n",
        "- True Negative (TN): 1188\n",
        "- False Negative (FN): 76"
      ],
      "metadata": {
        "id": "19ltq55QCtJM"
      }
    },
    {
      "cell_type": "markdown",
      "source": [
        "- Random Forest correctly predicted the positive class (True Positives): 4 instances.\n",
        "- Random Forest incorrectly predicted the positive class when it was actually negative (False Positives): 10 instances.\n",
        "- Random Forest correctly predicted the negative class (True Negatives): 1188 instances.\n",
        "- Random Forest incorrectly predicted the negative class when it was actually positive (False Negatives): 76 instances."
      ],
      "metadata": {
        "id": "kvJ_9HJ8C2HR"
      }
    },
    {
      "cell_type": "markdown",
      "source": [
        "##Summary"
      ],
      "metadata": {
        "id": "uU-5K4K6EZDt"
      }
    },
    {
      "cell_type": "code",
      "source": [
        "from sklearn.metrics import classification_report"
      ],
      "metadata": {
        "id": "pOXypvVMcHyy"
      },
      "execution_count": 99,
      "outputs": []
    },
    {
      "cell_type": "code",
      "source": [
        "#XGBoost\n",
        "print(classification_report(y_test, y_pred))"
      ],
      "metadata": {
        "colab": {
          "base_uri": "https://localhost:8080/"
        },
        "id": "mrc2HvSPEYss",
        "outputId": "eb335eb2-6cdc-4a95-8b6f-397afd042fec"
      },
      "execution_count": 36,
      "outputs": [
        {
          "output_type": "stream",
          "name": "stdout",
          "text": [
            "              precision    recall  f1-score   support\n",
            "\n",
            "           0       0.94      0.99      0.96      1198\n",
            "           1       0.11      0.03      0.04        80\n",
            "\n",
            "    accuracy                           0.93      1278\n",
            "   macro avg       0.52      0.51      0.50      1278\n",
            "weighted avg       0.89      0.93      0.90      1278\n",
            "\n"
          ]
        }
      ]
    },
    {
      "cell_type": "code",
      "source": [
        "#RandomForest\n",
        "print(classification_report(y_test, y_pred_rf))"
      ],
      "metadata": {
        "colab": {
          "base_uri": "https://localhost:8080/"
        },
        "id": "0OmOZCzOErH0",
        "outputId": "a63b2540-7c59-42d5-ad2f-884db6bb4e28"
      },
      "execution_count": 37,
      "outputs": [
        {
          "output_type": "stream",
          "name": "stdout",
          "text": [
            "              precision    recall  f1-score   support\n",
            "\n",
            "           0       0.94      0.99      0.97      1198\n",
            "           1       0.29      0.05      0.09        80\n",
            "\n",
            "    accuracy                           0.93      1278\n",
            "   macro avg       0.61      0.52      0.53      1278\n",
            "weighted avg       0.90      0.93      0.91      1278\n",
            "\n"
          ]
        }
      ]
    },
    {
      "cell_type": "markdown",
      "source": [
        "Random Forest:\n",
        "\n",
        "- Higher precision, recall, and F1-score for Class 1 compared to XGBoost.\n",
        "- Class 0 has high precision, recall, and F1-score.\n",
        "- Overall accuracy is 0.93."
      ],
      "metadata": {
        "id": "Oa9OGUIJGKLP"
      }
    },
    {
      "cell_type": "markdown",
      "source": [
        "XGBoost:\n",
        "\n",
        "- Similar overall accuracy (0.93) as Random Forest.\n",
        "- Class 0 has high precision, recall, and F1-score.\n",
        "- Class 1 has lower precision, recall, and F1-score compared to Confusion Matrix 1."
      ],
      "metadata": {
        "id": "mHZxKq7RGZBf"
      }
    },
    {
      "cell_type": "markdown",
      "source": [
        "#Discussion"
      ],
      "metadata": {
        "id": "zFPesb7kGqxN"
      }
    },
    {
      "cell_type": "markdown",
      "source": [
        "Both models have similar overall accuracy, but RandomForest performs better for Class 1 with higher precision, recall, and F1-score.\n",
        "XGBoost has lower performance for Class 1, with lower precision, recall, and F1-score."
      ],
      "metadata": {
        "id": "gmlpJhepGj87"
      }
    }
  ]
}